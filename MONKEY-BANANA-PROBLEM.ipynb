{
 "cells": [
  {
   "cell_type": "code",
   "execution_count": 3,
   "id": "99bf0f05",
   "metadata": {},
   "outputs": [
    {
     "name": "stdout",
     "output_type": "stream",
     "text": [
      "Random monkeys:\n",
      "[monkey with 21 bananas, monkey with 30 bananas, monkey with 15 bananas, monkey with 21 bananas, monkey with 49 bananas]\n",
      "\n",
      "noofbananas of first monkey 21\n",
      "\n",
      "max banana monkey monkey with 49 bananas\n"
     ]
    }
   ],
   "source": [
    "import random\n",
    "class monkey:\n",
    "    def __init__(self,bananas):\n",
    "        self.bananas=bananas\n",
    "    def __repr__(self):\n",
    "        return \"monkey with %d bananas\"%self.bananas\n",
    "Monkeys=[monkey(random.randint(0,50)) for i in range(5)]\n",
    "print(\"Random monkeys:\")\n",
    "print(Monkeys)\n",
    "print()\n",
    "def no_of_bananas(monkey):\n",
    "    return monkey.bananas\n",
    "print(\"noofbananas of first monkey\",no_of_bananas(Monkeys[0]))\n",
    "print()\n",
    "max_monkey=max(Monkeys,key= no_of_bananas)\n",
    "print(\"max banana monkey\",max_monkey)"
   ]
  }
 ],
 "metadata": {
  "kernelspec": {
   "display_name": "Python 3 (ipykernel)",
   "language": "python",
   "name": "python3"
  },
  "language_info": {
   "codemirror_mode": {
    "name": "ipython",
    "version": 3
   },
   "file_extension": ".py",
   "mimetype": "text/x-python",
   "name": "python",
   "nbconvert_exporter": "python",
   "pygments_lexer": "ipython3",
   "version": "3.10.9"
  }
 },
 "nbformat": 4,
 "nbformat_minor": 5
}

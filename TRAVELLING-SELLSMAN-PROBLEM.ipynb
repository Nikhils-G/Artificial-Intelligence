{
 "cells": [
  {
   "cell_type": "code",
   "execution_count": 5,
   "id": "9c41f2a5",
   "metadata": {},
   "outputs": [
    {
     "name": "stdout",
     "output_type": "stream",
     "text": [
      "80\n"
     ]
    }
   ],
   "source": [
    "from sys import maxsize\n",
    "from itertools import permutations\n",
    "V1=4\n",
    "def tsp(graph,s):\n",
    "    v=[]\n",
    "    for i in range(V1):\n",
    "        if i!=s:\n",
    "            v.append(i)\n",
    "    mp=maxsize\n",
    "    np=permutations(v)\n",
    "    for i in np:\n",
    "        cp=0\n",
    "        k=s\n",
    "        for j in i:\n",
    "            cp+=graph[k][j]\n",
    "            k=j\n",
    "        cp+=graph[k][s]\n",
    "        mp=min(mp,cp)\n",
    "    return mp\n",
    "if __name__=='__main__':\n",
    "    graph=[[0,10,15,20],[10,0,35,25],[15,35,0,30],[20,25,30,0]]\n",
    "    s=0\n",
    "print(tsp(graph,s))\n"
   ]
  }
 ],
 "metadata": {
  "kernelspec": {
   "display_name": "Python 3 (ipykernel)",
   "language": "python",
   "name": "python3"
  },
  "language_info": {
   "codemirror_mode": {
    "name": "ipython",
    "version": 3
   },
   "file_extension": ".py",
   "mimetype": "text/x-python",
   "name": "python",
   "nbconvert_exporter": "python",
   "pygments_lexer": "ipython3",
   "version": "3.10.9"
  }
 },
 "nbformat": 4,
 "nbformat_minor": 5
}

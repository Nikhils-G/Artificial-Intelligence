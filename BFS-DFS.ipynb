{
 "cells": [
  {
   "cell_type": "code",
   "execution_count": 4,
   "id": "62302323",
   "metadata": {},
   "outputs": [
    {
     "name": "stdout",
     "output_type": "stream",
     "text": [
      "A B C D E "
     ]
    }
   ],
   "source": [
    "graph = {\n",
    "    'A': ['B', 'C', 'D'],\n",
    "    'B': ['A'],\n",
    "    'C': ['A', 'D'],\n",
    "    'D': ['A', 'C', 'E'],\n",
    "    'E': ['D'],\n",
    "}\n",
    "def bfs(node):\n",
    "    visited = [False] * (len(graph))\n",
    "    queue = []\n",
    "    visited.append(node)\n",
    "    queue.append(node)\n",
    "    while queue:\n",
    "        v = queue.pop(0)\n",
    "        print(v, end=\" \")\n",
    "        for neigh in graph[v]:\n",
    "            if neigh not in visited:\n",
    "                visited.append(neigh)\n",
    "                queue.append(neigh)\n",
    "if __name__ == \"__main__\":\n",
    "    bfs('A')"
   ]
  },
  {
   "cell_type": "code",
   "execution_count": 5,
   "id": "aaa05bef",
   "metadata": {},
   "outputs": [
    {
     "name": "stdout",
     "output_type": "stream",
     "text": [
      "Following is the Depth-first search: [0, 2, 1, 3, 4]\n"
     ]
    }
   ],
   "source": [
    "def dfs(node, graph, visited, component):\n",
    "    component.append(node)  \n",
    "    visited[node] = True  \n",
    "    for child in graph[node]:\n",
    "        if not visited[child]:  \n",
    "            dfs(child, graph, visited, component)  \n",
    "if __name__ == \"__main__\":\n",
    "    graph = {\n",
    "        0: [2],\n",
    "        1: [2, 3],\n",
    "        2: [0, 1, 4],\n",
    "        3: [1, 4],\n",
    "        4: [2, 3]\n",
    "    }\n",
    "    node = 0  \n",
    "    visited = [False]*len(graph)  \n",
    "    component = []\n",
    "    dfs(node, graph, visited, component)  \n",
    "    print(f\"Following is the Depth-first search: {component}\")  "
   ]
  }
 ],
 "metadata": {
  "kernelspec": {
   "display_name": "Python 3 (ipykernel)",
   "language": "python",
   "name": "python3"
  },
  "language_info": {
   "codemirror_mode": {
    "name": "ipython",
    "version": 3
   },
   "file_extension": ".py",
   "mimetype": "text/x-python",
   "name": "python",
   "nbconvert_exporter": "python",
   "pygments_lexer": "ipython3",
   "version": "3.10.9"
  }
 },
 "nbformat": 4,
 "nbformat_minor": 5
}

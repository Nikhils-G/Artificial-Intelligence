{
 "cells": [
  {
   "cell_type": "code",
   "execution_count": 2,
   "id": "b12dabd3",
   "metadata": {},
   "outputs": [
    {
     "name": "stdout",
     "output_type": "stream",
     "text": [
      "Solution Exists: Following are the assigned colors\n",
      "Vertex 1 is given color: 1\n",
      "Vertex 2 is given color: 2\n",
      "Vertex 3 is given color: 3\n",
      "Vertex 4 is given color: 2\n"
     ]
    }
   ],
   "source": [
    "def isSafe(graph, color):\n",
    "    for i in range(4):\n",
    "        for j in range(i + 1, 4):\n",
    "            if graph[i][j] and color[j] == color[i]:\n",
    "                return False\n",
    "    return True\n",
    "\n",
    "def graphColoring(graph, m, i, color):\n",
    "    if i == 4:\n",
    "        if isSafe(graph, color):\n",
    "            display(color)\n",
    "            return True\n",
    "        return False\n",
    "    for j in range(1, m + 1):\n",
    "        color[i] = j\n",
    "        if graphColoring(graph, m, i + 1, color):\n",
    "            return True\n",
    "        color[i] = 0\n",
    "    return False\n",
    "\n",
    "def display(color):\n",
    "    print(\"Solution Exists: Following are the assigned colors\")\n",
    "    for i in range(4):\n",
    "        print(\"Vertex\", i + 1, \"is given color:\", color[i])\n",
    "\n",
    "if __name__ == '__main__':\n",
    "    graph = [\n",
    "        [0, 1, 1, 1],\n",
    "        [1, 0, 1, 0],\n",
    "        [1, 1, 0, 1],\n",
    "        [1, 0, 1, 0],\n",
    "    ]\n",
    "    m = 3\n",
    "    color = [0 for i in range(4)]\n",
    "    if not graphColoring(graph, m, 0, color):\n",
    "        print(\"Solution does not exist\")"
   ]
  },
  {
   "cell_type": "code",
   "execution_count": null,
   "id": "2a4c1fd9",
   "metadata": {},
   "outputs": [],
   "source": []
  }
 ],
 "metadata": {
  "kernelspec": {
   "display_name": "Python 3 (ipykernel)",
   "language": "python",
   "name": "python3"
  },
  "language_info": {
   "codemirror_mode": {
    "name": "ipython",
    "version": 3
   },
   "file_extension": ".py",
   "mimetype": "text/x-python",
   "name": "python",
   "nbconvert_exporter": "python",
   "pygments_lexer": "ipython3",
   "version": "3.10.9"
  }
 },
 "nbformat": 4,
 "nbformat_minor": 5
}
